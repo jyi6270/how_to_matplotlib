{
 "cells": [
  {
   "cell_type": "code",
   "execution_count": 1,
   "id": "fc3de878",
   "metadata": {},
   "outputs": [],
   "source": [
    "import numpy as np\n",
    "import pandas as pd\n",
    "\n",
    "import matplotlib as mpl\n",
    "import matplotlib.pyplot as plt\n",
    "import seaborn as sns\n",
    "\n",
    "%matplotlib inline"
   ]
  },
  {
   "cell_type": "code",
   "execution_count": 2,
   "id": "9556c17f",
   "metadata": {},
   "outputs": [],
   "source": [
    "# 한글 폰트 문제 해결\n",
    "import platform\n",
    "from matplotlib import font_manager, rc\n",
    "plt.rcParams['axes.unicode_minus'] = False\n",
    "\n",
    "if platform.system() == 'Darwin':\n",
    "    rc('font', family='AppleGothic')\n",
    "elif platform.system() == 'Windows':\n",
    "    path = \"c:/Windows/Fonts/malgun.ttf\"\n",
    "    font_name = font_manager.FontProperties(fname=path).get_name()\n",
    "    rc('font', family=font_name)\n",
    "else:\n",
    "    print('Unknown system... sorry~~~~')\n",
    "\n",
    "# 워닝 메시지 무시\n",
    "import warnings\n",
    "warnings.filterwarnings(action='ignore')\n",
    "\n",
    "# 차트 축 <- 음수 부호 지원\n",
    "import matplotlib\n",
    "matplotlib.rcParams['axes.unicode_minus'] = False"
   ]
  },
  {
   "cell_type": "markdown",
   "id": "48fa583e",
   "metadata": {},
   "source": [
    "- koweps_visualization.xlsx [실습]"
   ]
  },
  {
   "cell_type": "code",
   "execution_count": 3,
   "id": "ab5b1002",
   "metadata": {},
   "outputs": [
    {
     "data": {
      "text/html": [
       "<div>\n",
       "<style scoped>\n",
       "    .dataframe tbody tr th:only-of-type {\n",
       "        vertical-align: middle;\n",
       "    }\n",
       "\n",
       "    .dataframe tbody tr th {\n",
       "        vertical-align: top;\n",
       "    }\n",
       "\n",
       "    .dataframe thead th {\n",
       "        text-align: right;\n",
       "    }\n",
       "</style>\n",
       "<table border=\"1\" class=\"dataframe\">\n",
       "  <thead>\n",
       "    <tr style=\"text-align: right;\">\n",
       "      <th></th>\n",
       "      <th>h12_id</th>\n",
       "      <th>h12_ind</th>\n",
       "      <th>h12_sn</th>\n",
       "      <th>h12_merkey</th>\n",
       "      <th>h_new</th>\n",
       "      <th>h12_cobf</th>\n",
       "      <th>p12_wgl</th>\n",
       "      <th>p12_wsl</th>\n",
       "      <th>p12_wgc</th>\n",
       "      <th>p12_wsc</th>\n",
       "      <th>...</th>\n",
       "      <th>da12_326</th>\n",
       "      <th>da12_327</th>\n",
       "      <th>da12_328</th>\n",
       "      <th>da12_6aq14</th>\n",
       "      <th>da12_6aq15</th>\n",
       "      <th>h12_pers_income1</th>\n",
       "      <th>h12_pers_income2</th>\n",
       "      <th>h12_pers_income3</th>\n",
       "      <th>h12_pers_income4</th>\n",
       "      <th>h12_pers_income5</th>\n",
       "    </tr>\n",
       "  </thead>\n",
       "  <tbody>\n",
       "    <tr>\n",
       "      <th>0</th>\n",
       "      <td>1</td>\n",
       "      <td>1</td>\n",
       "      <td>1</td>\n",
       "      <td>10101</td>\n",
       "      <td>0</td>\n",
       "      <td>NaN</td>\n",
       "      <td>953.482054</td>\n",
       "      <td>0.286943</td>\n",
       "      <td>948.140524</td>\n",
       "      <td>0.285336</td>\n",
       "      <td>...</td>\n",
       "      <td>NaN</td>\n",
       "      <td>NaN</td>\n",
       "      <td>NaN</td>\n",
       "      <td>NaN</td>\n",
       "      <td>NaN</td>\n",
       "      <td>NaN</td>\n",
       "      <td>NaN</td>\n",
       "      <td>NaN</td>\n",
       "      <td>0</td>\n",
       "      <td>NaN</td>\n",
       "    </tr>\n",
       "    <tr>\n",
       "      <th>1</th>\n",
       "      <td>2</td>\n",
       "      <td>1</td>\n",
       "      <td>1</td>\n",
       "      <td>20101</td>\n",
       "      <td>0</td>\n",
       "      <td>NaN</td>\n",
       "      <td>1238.891352</td>\n",
       "      <td>0.372835</td>\n",
       "      <td>1238.891352</td>\n",
       "      <td>0.372835</td>\n",
       "      <td>...</td>\n",
       "      <td>NaN</td>\n",
       "      <td>NaN</td>\n",
       "      <td>NaN</td>\n",
       "      <td>NaN</td>\n",
       "      <td>NaN</td>\n",
       "      <td>NaN</td>\n",
       "      <td>NaN</td>\n",
       "      <td>NaN</td>\n",
       "      <td>0</td>\n",
       "      <td>NaN</td>\n",
       "    </tr>\n",
       "    <tr>\n",
       "      <th>2</th>\n",
       "      <td>3</td>\n",
       "      <td>1</td>\n",
       "      <td>1</td>\n",
       "      <td>30101</td>\n",
       "      <td>0</td>\n",
       "      <td>NaN</td>\n",
       "      <td>1282.051947</td>\n",
       "      <td>0.385824</td>\n",
       "      <td>1282.051947</td>\n",
       "      <td>0.385824</td>\n",
       "      <td>...</td>\n",
       "      <td>NaN</td>\n",
       "      <td>NaN</td>\n",
       "      <td>NaN</td>\n",
       "      <td>NaN</td>\n",
       "      <td>NaN</td>\n",
       "      <td>NaN</td>\n",
       "      <td>NaN</td>\n",
       "      <td>NaN</td>\n",
       "      <td>0</td>\n",
       "      <td>NaN</td>\n",
       "    </tr>\n",
       "    <tr>\n",
       "      <th>3</th>\n",
       "      <td>4</td>\n",
       "      <td>1</td>\n",
       "      <td>1</td>\n",
       "      <td>40101</td>\n",
       "      <td>0</td>\n",
       "      <td>NaN</td>\n",
       "      <td>1066.327201</td>\n",
       "      <td>0.320903</td>\n",
       "      <td>1066.327201</td>\n",
       "      <td>0.320903</td>\n",
       "      <td>...</td>\n",
       "      <td>NaN</td>\n",
       "      <td>NaN</td>\n",
       "      <td>NaN</td>\n",
       "      <td>NaN</td>\n",
       "      <td>NaN</td>\n",
       "      <td>NaN</td>\n",
       "      <td>3418.0</td>\n",
       "      <td>NaN</td>\n",
       "      <td>0</td>\n",
       "      <td>NaN</td>\n",
       "    </tr>\n",
       "    <tr>\n",
       "      <th>4</th>\n",
       "      <td>4</td>\n",
       "      <td>1</td>\n",
       "      <td>1</td>\n",
       "      <td>40101</td>\n",
       "      <td>0</td>\n",
       "      <td>NaN</td>\n",
       "      <td>1390.617192</td>\n",
       "      <td>0.418496</td>\n",
       "      <td>1382.826774</td>\n",
       "      <td>0.416151</td>\n",
       "      <td>...</td>\n",
       "      <td>NaN</td>\n",
       "      <td>NaN</td>\n",
       "      <td>NaN</td>\n",
       "      <td>NaN</td>\n",
       "      <td>NaN</td>\n",
       "      <td>NaN</td>\n",
       "      <td>NaN</td>\n",
       "      <td>NaN</td>\n",
       "      <td>0</td>\n",
       "      <td>NaN</td>\n",
       "    </tr>\n",
       "    <tr>\n",
       "      <th>...</th>\n",
       "      <td>...</td>\n",
       "      <td>...</td>\n",
       "      <td>...</td>\n",
       "      <td>...</td>\n",
       "      <td>...</td>\n",
       "      <td>...</td>\n",
       "      <td>...</td>\n",
       "      <td>...</td>\n",
       "      <td>...</td>\n",
       "      <td>...</td>\n",
       "      <td>...</td>\n",
       "      <td>...</td>\n",
       "      <td>...</td>\n",
       "      <td>...</td>\n",
       "      <td>...</td>\n",
       "      <td>...</td>\n",
       "      <td>...</td>\n",
       "      <td>...</td>\n",
       "      <td>...</td>\n",
       "      <td>...</td>\n",
       "      <td>...</td>\n",
       "    </tr>\n",
       "    <tr>\n",
       "      <th>15417</th>\n",
       "      <td>9800</td>\n",
       "      <td>7</td>\n",
       "      <td>1</td>\n",
       "      <td>98000701</td>\n",
       "      <td>1</td>\n",
       "      <td>NaN</td>\n",
       "      <td>735.488155</td>\n",
       "      <td>0.221339</td>\n",
       "      <td>735.488155</td>\n",
       "      <td>0.221339</td>\n",
       "      <td>...</td>\n",
       "      <td>NaN</td>\n",
       "      <td>NaN</td>\n",
       "      <td>NaN</td>\n",
       "      <td>NaN</td>\n",
       "      <td>NaN</td>\n",
       "      <td>NaN</td>\n",
       "      <td>979.0</td>\n",
       "      <td>NaN</td>\n",
       "      <td>0</td>\n",
       "      <td>NaN</td>\n",
       "    </tr>\n",
       "    <tr>\n",
       "      <th>15418</th>\n",
       "      <td>9800</td>\n",
       "      <td>7</td>\n",
       "      <td>1</td>\n",
       "      <td>98000701</td>\n",
       "      <td>1</td>\n",
       "      <td>NaN</td>\n",
       "      <td>898.395613</td>\n",
       "      <td>0.270365</td>\n",
       "      <td>898.395613</td>\n",
       "      <td>0.270365</td>\n",
       "      <td>...</td>\n",
       "      <td>NaN</td>\n",
       "      <td>NaN</td>\n",
       "      <td>NaN</td>\n",
       "      <td>NaN</td>\n",
       "      <td>NaN</td>\n",
       "      <td>NaN</td>\n",
       "      <td>NaN</td>\n",
       "      <td>NaN</td>\n",
       "      <td>0</td>\n",
       "      <td>NaN</td>\n",
       "    </tr>\n",
       "    <tr>\n",
       "      <th>15419</th>\n",
       "      <td>9800</td>\n",
       "      <td>7</td>\n",
       "      <td>1</td>\n",
       "      <td>98000701</td>\n",
       "      <td>1</td>\n",
       "      <td>NaN</td>\n",
       "      <td>2686.353997</td>\n",
       "      <td>0.808438</td>\n",
       "      <td>2676.190322</td>\n",
       "      <td>0.805379</td>\n",
       "      <td>...</td>\n",
       "      <td>NaN</td>\n",
       "      <td>NaN</td>\n",
       "      <td>NaN</td>\n",
       "      <td>NaN</td>\n",
       "      <td>NaN</td>\n",
       "      <td>NaN</td>\n",
       "      <td>868.0</td>\n",
       "      <td>NaN</td>\n",
       "      <td>0</td>\n",
       "      <td>NaN</td>\n",
       "    </tr>\n",
       "    <tr>\n",
       "      <th>15420</th>\n",
       "      <td>9800</td>\n",
       "      <td>7</td>\n",
       "      <td>1</td>\n",
       "      <td>98000701</td>\n",
       "      <td>1</td>\n",
       "      <td>NaN</td>\n",
       "      <td>841.651153</td>\n",
       "      <td>0.253288</td>\n",
       "      <td>841.651153</td>\n",
       "      <td>0.253288</td>\n",
       "      <td>...</td>\n",
       "      <td>NaN</td>\n",
       "      <td>NaN</td>\n",
       "      <td>NaN</td>\n",
       "      <td>NaN</td>\n",
       "      <td>NaN</td>\n",
       "      <td>NaN</td>\n",
       "      <td>518.0</td>\n",
       "      <td>NaN</td>\n",
       "      <td>0</td>\n",
       "      <td>NaN</td>\n",
       "    </tr>\n",
       "    <tr>\n",
       "      <th>15421</th>\n",
       "      <td>9800</td>\n",
       "      <td>7</td>\n",
       "      <td>1</td>\n",
       "      <td>98000701</td>\n",
       "      <td>1</td>\n",
       "      <td>NaN</td>\n",
       "      <td>643.650245</td>\n",
       "      <td>0.193702</td>\n",
       "      <td>643.650245</td>\n",
       "      <td>0.193702</td>\n",
       "      <td>...</td>\n",
       "      <td>NaN</td>\n",
       "      <td>NaN</td>\n",
       "      <td>NaN</td>\n",
       "      <td>NaN</td>\n",
       "      <td>NaN</td>\n",
       "      <td>NaN</td>\n",
       "      <td>NaN</td>\n",
       "      <td>NaN</td>\n",
       "      <td>0</td>\n",
       "      <td>NaN</td>\n",
       "    </tr>\n",
       "  </tbody>\n",
       "</table>\n",
       "<p>15422 rows × 1191 columns</p>\n",
       "</div>"
      ],
      "text/plain": [
       "       h12_id  h12_ind  h12_sn  h12_merkey  h_new  h12_cobf      p12_wgl  \\\n",
       "0           1        1       1       10101      0       NaN   953.482054   \n",
       "1           2        1       1       20101      0       NaN  1238.891352   \n",
       "2           3        1       1       30101      0       NaN  1282.051947   \n",
       "3           4        1       1       40101      0       NaN  1066.327201   \n",
       "4           4        1       1       40101      0       NaN  1390.617192   \n",
       "...       ...      ...     ...         ...    ...       ...          ...   \n",
       "15417    9800        7       1    98000701      1       NaN   735.488155   \n",
       "15418    9800        7       1    98000701      1       NaN   898.395613   \n",
       "15419    9800        7       1    98000701      1       NaN  2686.353997   \n",
       "15420    9800        7       1    98000701      1       NaN   841.651153   \n",
       "15421    9800        7       1    98000701      1       NaN   643.650245   \n",
       "\n",
       "        p12_wsl      p12_wgc   p12_wsc  ...  da12_326  da12_327  da12_328  \\\n",
       "0      0.286943   948.140524  0.285336  ...       NaN       NaN       NaN   \n",
       "1      0.372835  1238.891352  0.372835  ...       NaN       NaN       NaN   \n",
       "2      0.385824  1282.051947  0.385824  ...       NaN       NaN       NaN   \n",
       "3      0.320903  1066.327201  0.320903  ...       NaN       NaN       NaN   \n",
       "4      0.418496  1382.826774  0.416151  ...       NaN       NaN       NaN   \n",
       "...         ...          ...       ...  ...       ...       ...       ...   \n",
       "15417  0.221339   735.488155  0.221339  ...       NaN       NaN       NaN   \n",
       "15418  0.270365   898.395613  0.270365  ...       NaN       NaN       NaN   \n",
       "15419  0.808438  2676.190322  0.805379  ...       NaN       NaN       NaN   \n",
       "15420  0.253288   841.651153  0.253288  ...       NaN       NaN       NaN   \n",
       "15421  0.193702   643.650245  0.193702  ...       NaN       NaN       NaN   \n",
       "\n",
       "       da12_6aq14  da12_6aq15  h12_pers_income1  h12_pers_income2  \\\n",
       "0             NaN         NaN               NaN               NaN   \n",
       "1             NaN         NaN               NaN               NaN   \n",
       "2             NaN         NaN               NaN               NaN   \n",
       "3             NaN         NaN               NaN            3418.0   \n",
       "4             NaN         NaN               NaN               NaN   \n",
       "...           ...         ...               ...               ...   \n",
       "15417         NaN         NaN               NaN             979.0   \n",
       "15418         NaN         NaN               NaN               NaN   \n",
       "15419         NaN         NaN               NaN             868.0   \n",
       "15420         NaN         NaN               NaN             518.0   \n",
       "15421         NaN         NaN               NaN               NaN   \n",
       "\n",
       "       h12_pers_income3  h12_pers_income4  h12_pers_income5  \n",
       "0                   NaN                 0               NaN  \n",
       "1                   NaN                 0               NaN  \n",
       "2                   NaN                 0               NaN  \n",
       "3                   NaN                 0               NaN  \n",
       "4                   NaN                 0               NaN  \n",
       "...                 ...               ...               ...  \n",
       "15417               NaN                 0               NaN  \n",
       "15418               NaN                 0               NaN  \n",
       "15419               NaN                 0               NaN  \n",
       "15420               NaN                 0               NaN  \n",
       "15421               NaN                 0               NaN  \n",
       "\n",
       "[15422 rows x 1191 columns]"
      ]
     },
     "execution_count": 3,
     "metadata": {},
     "output_type": "execute_result"
    }
   ],
   "source": [
    "koweps_frm = pd.read_excel('./data/visualization_data/koweps_visualization.xlsx')\n",
    "koweps_frm"
   ]
  },
  {
   "cell_type": "code",
   "execution_count": 4,
   "id": "61410337",
   "metadata": {},
   "outputs": [],
   "source": [
    "koweps = koweps_frm.copy()"
   ]
  },
  {
   "cell_type": "code",
   "execution_count": 5,
   "id": "c8305df8",
   "metadata": {},
   "outputs": [
    {
     "data": {
      "image/png": "[encoded data removed]",
      "text/plain": [
       "<IPython.core.display.Image object>"
      ]
     },
     "execution_count": 5,
     "metadata": {
      "image/png": {
       "width": 700
      }
     },
     "output_type": "execute_result"
    }
   ],
   "source": [
    "from IPython.display import Image\n",
    "Image('./data/visualization_data/실습이미지.png', width = 700)"
   ]
  },
  {
   "cell_type": "code",
   "execution_count": 60,
   "id": "6be59554",
   "metadata": {},
   "outputs": [
    {
     "data": {
      "text/html": [
       "<div>\n",
       "<style scoped>\n",
       "    .dataframe tbody tr th:only-of-type {\n",
       "        vertical-align: middle;\n",
       "    }\n",
       "\n",
       "    .dataframe tbody tr th {\n",
       "        vertical-align: top;\n",
       "    }\n",
       "\n",
       "    .dataframe thead th {\n",
       "        text-align: right;\n",
       "    }\n",
       "</style>\n",
       "<table border=\"1\" class=\"dataframe\">\n",
       "  <thead>\n",
       "    <tr style=\"text-align: right;\">\n",
       "      <th></th>\n",
       "      <th>성별</th>\n",
       "      <th>태어난 연도</th>\n",
       "      <th>혼인상태</th>\n",
       "      <th>종교</th>\n",
       "      <th>직종</th>\n",
       "      <th>일한달의 월 평균 임금</th>\n",
       "      <th>7개 권역별 지역구분</th>\n",
       "    </tr>\n",
       "  </thead>\n",
       "  <tbody>\n",
       "    <tr>\n",
       "      <th>0</th>\n",
       "      <td>2</td>\n",
       "      <td>1936</td>\n",
       "      <td>2</td>\n",
       "      <td>2</td>\n",
       "      <td>NaN</td>\n",
       "      <td>NaN</td>\n",
       "      <td>1</td>\n",
       "    </tr>\n",
       "    <tr>\n",
       "      <th>1</th>\n",
       "      <td>2</td>\n",
       "      <td>1945</td>\n",
       "      <td>2</td>\n",
       "      <td>2</td>\n",
       "      <td>NaN</td>\n",
       "      <td>NaN</td>\n",
       "      <td>1</td>\n",
       "    </tr>\n",
       "    <tr>\n",
       "      <th>2</th>\n",
       "      <td>1</td>\n",
       "      <td>1948</td>\n",
       "      <td>2</td>\n",
       "      <td>2</td>\n",
       "      <td>NaN</td>\n",
       "      <td>NaN</td>\n",
       "      <td>1</td>\n",
       "    </tr>\n",
       "    <tr>\n",
       "      <th>3</th>\n",
       "      <td>1</td>\n",
       "      <td>1942</td>\n",
       "      <td>3</td>\n",
       "      <td>1</td>\n",
       "      <td>762.0</td>\n",
       "      <td>108.9</td>\n",
       "      <td>1</td>\n",
       "    </tr>\n",
       "    <tr>\n",
       "      <th>4</th>\n",
       "      <td>2</td>\n",
       "      <td>1923</td>\n",
       "      <td>2</td>\n",
       "      <td>1</td>\n",
       "      <td>NaN</td>\n",
       "      <td>NaN</td>\n",
       "      <td>1</td>\n",
       "    </tr>\n",
       "    <tr>\n",
       "      <th>...</th>\n",
       "      <td>...</td>\n",
       "      <td>...</td>\n",
       "      <td>...</td>\n",
       "      <td>...</td>\n",
       "      <td>...</td>\n",
       "      <td>...</td>\n",
       "      <td>...</td>\n",
       "    </tr>\n",
       "    <tr>\n",
       "      <th>15417</th>\n",
       "      <td>2</td>\n",
       "      <td>1967</td>\n",
       "      <td>1</td>\n",
       "      <td>1</td>\n",
       "      <td>952.0</td>\n",
       "      <td>NaN</td>\n",
       "      <td>5</td>\n",
       "    </tr>\n",
       "    <tr>\n",
       "      <th>15418</th>\n",
       "      <td>2</td>\n",
       "      <td>1992</td>\n",
       "      <td>5</td>\n",
       "      <td>1</td>\n",
       "      <td>NaN</td>\n",
       "      <td>NaN</td>\n",
       "      <td>5</td>\n",
       "    </tr>\n",
       "    <tr>\n",
       "      <th>15419</th>\n",
       "      <td>1</td>\n",
       "      <td>1995</td>\n",
       "      <td>5</td>\n",
       "      <td>1</td>\n",
       "      <td>521.0</td>\n",
       "      <td>72.0</td>\n",
       "      <td>5</td>\n",
       "    </tr>\n",
       "    <tr>\n",
       "      <th>15420</th>\n",
       "      <td>2</td>\n",
       "      <td>1998</td>\n",
       "      <td>5</td>\n",
       "      <td>1</td>\n",
       "      <td>432.0</td>\n",
       "      <td>NaN</td>\n",
       "      <td>5</td>\n",
       "    </tr>\n",
       "    <tr>\n",
       "      <th>15421</th>\n",
       "      <td>1</td>\n",
       "      <td>2001</td>\n",
       "      <td>0</td>\n",
       "      <td>1</td>\n",
       "      <td>NaN</td>\n",
       "      <td>NaN</td>\n",
       "      <td>5</td>\n",
       "    </tr>\n",
       "  </tbody>\n",
       "</table>\n",
       "<p>15422 rows × 7 columns</p>\n",
       "</div>"
      ],
      "text/plain": [
       "       성별  태어난 연도  혼인상태  종교     직종  일한달의 월 평균 임금  7개 권역별 지역구분\n",
       "0       2    1936     2   2    NaN           NaN            1\n",
       "1       2    1945     2   2    NaN           NaN            1\n",
       "2       1    1948     2   2    NaN           NaN            1\n",
       "3       1    1942     3   1  762.0         108.9            1\n",
       "4       2    1923     2   1    NaN           NaN            1\n",
       "...    ..     ...   ...  ..    ...           ...          ...\n",
       "15417   2    1967     1   1  952.0           NaN            5\n",
       "15418   2    1992     5   1    NaN           NaN            5\n",
       "15419   1    1995     5   1  521.0          72.0            5\n",
       "15420   2    1998     5   1  432.0           NaN            5\n",
       "15421   1    2001     0   1    NaN           NaN            5\n",
       "\n",
       "[15422 rows x 7 columns]"
      ]
     },
     "execution_count": 60,
     "metadata": {},
     "output_type": "execute_result"
    }
   ],
   "source": [
    "koweps_subset = koweps[['h12_g3','h12_g4','h12_g10','h12_g11','h12_eco9','p1202_8aq1','h12_reg7']]\n",
    "koweps_subset.rename(columns = {'h12_g3':'성별', 'h12_g4':'태어난 연도', 'h12_g10':'혼인상태',\n",
    "                               'h12_g11':'종교','h12_eco9':'직종','p1202_8aq1':'일한달의 월 평균 임금',\n",
    "                               'h12_reg7':'7개 권역별 지역구분'}, inplace = True)\n",
    "koweps_subset"
   ]
  },
  {
   "cell_type": "code",
   "execution_count": 12,
   "id": "0402d6b9",
   "metadata": {},
   "outputs": [
    {
     "data": {
      "text/plain": [
       "2    8440\n",
       "1    6982\n",
       "Name: 성별, dtype: int64"
      ]
     },
     "execution_count": 12,
     "metadata": {},
     "output_type": "execute_result"
    }
   ],
   "source": [
    "# 데이터 분석\n",
    "# 성별의 데이터 분포 확인\n",
    "# 성별을 비율순으로 정렬\n",
    "# 데이터 시각화\n",
    "subset_koweps['성별'].value_counts()"
   ]
  },
  {
   "cell_type": "code",
   "execution_count": 14,
   "id": "a679d821",
   "metadata": {},
   "outputs": [
    {
     "data": {
      "text/plain": [
       "<AxesSubplot:>"
      ]
     },
     "execution_count": 14,
     "metadata": {},
     "output_type": "execute_result"
    },
    {
     "data": {
      "image/png": "[encoded data removed]",
      "text/plain": [
       "<Figure size 432x288 with 1 Axes>"
      ]
     },
     "metadata": {
      "needs_background": "light"
     },
     "output_type": "display_data"
    }
   ],
   "source": [
    "subset_koweps['성별'].value_counts().plot(kind='bar', rot = 0)"
   ]
  },
  {
   "cell_type": "code",
   "execution_count": 22,
   "id": "ceb6194a",
   "metadata": {},
   "outputs": [
    {
     "data": {
      "text/html": [
       "<div>\n",
       "<style scoped>\n",
       "    .dataframe tbody tr th:only-of-type {\n",
       "        vertical-align: middle;\n",
       "    }\n",
       "\n",
       "    .dataframe tbody tr th {\n",
       "        vertical-align: top;\n",
       "    }\n",
       "\n",
       "    .dataframe thead th {\n",
       "        text-align: right;\n",
       "    }\n",
       "</style>\n",
       "<table border=\"1\" class=\"dataframe\">\n",
       "  <thead>\n",
       "    <tr style=\"text-align: right;\">\n",
       "      <th></th>\n",
       "      <th>성별</th>\n",
       "      <th>태어난 연도</th>\n",
       "      <th>혼인상태</th>\n",
       "      <th>종교</th>\n",
       "      <th>직종</th>\n",
       "      <th>일한달의 월 평균 임금</th>\n",
       "      <th>7개 권역별 지역구분</th>\n",
       "      <th>성별2</th>\n",
       "    </tr>\n",
       "  </thead>\n",
       "  <tbody>\n",
       "    <tr>\n",
       "      <th>0</th>\n",
       "      <td>2</td>\n",
       "      <td>1936</td>\n",
       "      <td>2</td>\n",
       "      <td>2</td>\n",
       "      <td>NaN</td>\n",
       "      <td>NaN</td>\n",
       "      <td>1</td>\n",
       "      <td>여자</td>\n",
       "    </tr>\n",
       "    <tr>\n",
       "      <th>1</th>\n",
       "      <td>2</td>\n",
       "      <td>1945</td>\n",
       "      <td>2</td>\n",
       "      <td>2</td>\n",
       "      <td>NaN</td>\n",
       "      <td>NaN</td>\n",
       "      <td>1</td>\n",
       "      <td>여자</td>\n",
       "    </tr>\n",
       "    <tr>\n",
       "      <th>2</th>\n",
       "      <td>1</td>\n",
       "      <td>1948</td>\n",
       "      <td>2</td>\n",
       "      <td>2</td>\n",
       "      <td>NaN</td>\n",
       "      <td>NaN</td>\n",
       "      <td>1</td>\n",
       "      <td>남자</td>\n",
       "    </tr>\n",
       "    <tr>\n",
       "      <th>3</th>\n",
       "      <td>1</td>\n",
       "      <td>1942</td>\n",
       "      <td>3</td>\n",
       "      <td>1</td>\n",
       "      <td>762.0</td>\n",
       "      <td>108.9</td>\n",
       "      <td>1</td>\n",
       "      <td>남자</td>\n",
       "    </tr>\n",
       "    <tr>\n",
       "      <th>4</th>\n",
       "      <td>2</td>\n",
       "      <td>1923</td>\n",
       "      <td>2</td>\n",
       "      <td>1</td>\n",
       "      <td>NaN</td>\n",
       "      <td>NaN</td>\n",
       "      <td>1</td>\n",
       "      <td>여자</td>\n",
       "    </tr>\n",
       "  </tbody>\n",
       "</table>\n",
       "</div>"
      ],
      "text/plain": [
       "   성별  태어난 연도  혼인상태  종교     직종  일한달의 월 평균 임금  7개 권역별 지역구분 성별2\n",
       "0   2    1936     2   2    NaN           NaN            1  여자\n",
       "1   2    1945     2   2    NaN           NaN            1  여자\n",
       "2   1    1948     2   2    NaN           NaN            1  남자\n",
       "3   1    1942     3   1  762.0         108.9            1  남자\n",
       "4   2    1923     2   1    NaN           NaN            1  여자"
      ]
     },
     "execution_count": 22,
     "metadata": {},
     "output_type": "execute_result"
    }
   ],
   "source": [
    "# 성별을 남, 여 변경한 성별2 컬럼 새로 만들기, 시각화\n",
    "subset_koweps['성별2'] = subset_koweps['성별'].apply(lambda x : '남자' if x == 1 else '여자')\n",
    "subset_koweps.head()"
   ]
  },
  {
   "cell_type": "code",
   "execution_count": 24,
   "id": "2d7a83e1",
   "metadata": {},
   "outputs": [
    {
     "data": {
      "text/html": [
       "<div>\n",
       "<style scoped>\n",
       "    .dataframe tbody tr th:only-of-type {\n",
       "        vertical-align: middle;\n",
       "    }\n",
       "\n",
       "    .dataframe tbody tr th {\n",
       "        vertical-align: top;\n",
       "    }\n",
       "\n",
       "    .dataframe thead th {\n",
       "        text-align: right;\n",
       "    }\n",
       "</style>\n",
       "<table border=\"1\" class=\"dataframe\">\n",
       "  <thead>\n",
       "    <tr style=\"text-align: right;\">\n",
       "      <th></th>\n",
       "      <th>성별</th>\n",
       "      <th>태어난 연도</th>\n",
       "      <th>혼인상태</th>\n",
       "      <th>종교</th>\n",
       "      <th>직종</th>\n",
       "      <th>일한달의 월 평균 임금</th>\n",
       "      <th>7개 권역별 지역구분</th>\n",
       "      <th>성별2</th>\n",
       "      <th>성별3</th>\n",
       "    </tr>\n",
       "  </thead>\n",
       "  <tbody>\n",
       "    <tr>\n",
       "      <th>0</th>\n",
       "      <td>2</td>\n",
       "      <td>1936</td>\n",
       "      <td>2</td>\n",
       "      <td>2</td>\n",
       "      <td>NaN</td>\n",
       "      <td>NaN</td>\n",
       "      <td>1</td>\n",
       "      <td>여자</td>\n",
       "      <td>여자</td>\n",
       "    </tr>\n",
       "    <tr>\n",
       "      <th>1</th>\n",
       "      <td>2</td>\n",
       "      <td>1945</td>\n",
       "      <td>2</td>\n",
       "      <td>2</td>\n",
       "      <td>NaN</td>\n",
       "      <td>NaN</td>\n",
       "      <td>1</td>\n",
       "      <td>여자</td>\n",
       "      <td>여자</td>\n",
       "    </tr>\n",
       "    <tr>\n",
       "      <th>2</th>\n",
       "      <td>1</td>\n",
       "      <td>1948</td>\n",
       "      <td>2</td>\n",
       "      <td>2</td>\n",
       "      <td>NaN</td>\n",
       "      <td>NaN</td>\n",
       "      <td>1</td>\n",
       "      <td>남자</td>\n",
       "      <td>남자</td>\n",
       "    </tr>\n",
       "    <tr>\n",
       "      <th>3</th>\n",
       "      <td>1</td>\n",
       "      <td>1942</td>\n",
       "      <td>3</td>\n",
       "      <td>1</td>\n",
       "      <td>762.0</td>\n",
       "      <td>108.9</td>\n",
       "      <td>1</td>\n",
       "      <td>남자</td>\n",
       "      <td>남자</td>\n",
       "    </tr>\n",
       "    <tr>\n",
       "      <th>4</th>\n",
       "      <td>2</td>\n",
       "      <td>1923</td>\n",
       "      <td>2</td>\n",
       "      <td>1</td>\n",
       "      <td>NaN</td>\n",
       "      <td>NaN</td>\n",
       "      <td>1</td>\n",
       "      <td>여자</td>\n",
       "      <td>여자</td>\n",
       "    </tr>\n",
       "  </tbody>\n",
       "</table>\n",
       "</div>"
      ],
      "text/plain": [
       "   성별  태어난 연도  혼인상태  종교     직종  일한달의 월 평균 임금  7개 권역별 지역구분 성별2 성별3\n",
       "0   2    1936     2   2    NaN           NaN            1  여자  여자\n",
       "1   2    1945     2   2    NaN           NaN            1  여자  여자\n",
       "2   1    1948     2   2    NaN           NaN            1  남자  남자\n",
       "3   1    1942     3   1  762.0         108.9            1  남자  남자\n",
       "4   2    1923     2   1    NaN           NaN            1  여자  여자"
      ]
     },
     "execution_count": 24,
     "metadata": {},
     "output_type": "execute_result"
    }
   ],
   "source": [
    "# np.where(): 조건에 만족하는 인덱스만 반환\n",
    "subset_koweps['성별3'] = np.where(subset_koweps['성별'] == 1 , '남자', '여자')\n",
    "subset_koweps.head()"
   ]
  },
  {
   "cell_type": "code",
   "execution_count": 25,
   "id": "dc92f61c",
   "metadata": {},
   "outputs": [
    {
     "data": {
      "text/plain": [
       "<AxesSubplot:>"
      ]
     },
     "execution_count": 25,
     "metadata": {},
     "output_type": "execute_result"
    },
    {
     "data": {
      "image/png": "[encoded data removed]",
      "text/plain": [
       "<Figure size 432x288 with 1 Axes>"
      ]
     },
     "metadata": {
      "needs_background": "light"
     },
     "output_type": "display_data"
    }
   ],
   "source": [
    "subset_koweps['성별3'].value_counts().plot(kind='bar', rot=0)"
   ]
  },
  {
   "cell_type": "code",
   "execution_count": 27,
   "id": "d9be5b19",
   "metadata": {},
   "outputs": [
    {
     "data": {
      "text/html": [
       "<div>\n",
       "<style scoped>\n",
       "    .dataframe tbody tr th:only-of-type {\n",
       "        vertical-align: middle;\n",
       "    }\n",
       "\n",
       "    .dataframe tbody tr th {\n",
       "        vertical-align: top;\n",
       "    }\n",
       "\n",
       "    .dataframe thead th {\n",
       "        text-align: right;\n",
       "    }\n",
       "</style>\n",
       "<table border=\"1\" class=\"dataframe\">\n",
       "  <thead>\n",
       "    <tr style=\"text-align: right;\">\n",
       "      <th></th>\n",
       "      <th>명</th>\n",
       "    </tr>\n",
       "  </thead>\n",
       "  <tbody>\n",
       "    <tr>\n",
       "      <th>여자</th>\n",
       "      <td>8440</td>\n",
       "    </tr>\n",
       "    <tr>\n",
       "      <th>남자</th>\n",
       "      <td>6982</td>\n",
       "    </tr>\n",
       "  </tbody>\n",
       "</table>\n",
       "</div>"
      ],
      "text/plain": [
       "       명\n",
       "여자  8440\n",
       "남자  6982"
      ]
     },
     "execution_count": 27,
     "metadata": {},
     "output_type": "execute_result"
    }
   ],
   "source": [
    "# 성별 분포에 따른 시각화 - bar\n",
    "gender_frm = pd.DataFrame(subset_koweps['성별3'].value_counts())\n",
    "gender_frm.rename(columns = {'성별3': '명'}, inplace=True)\n",
    "gender_frm"
   ]
  },
  {
   "cell_type": "code",
   "execution_count": 34,
   "id": "2a4879e4",
   "metadata": {},
   "outputs": [
    {
     "data": {
      "image/png": "[encoded data removed]",
      "text/plain": [
       "<Figure size 1080x1080 with 1 Axes>"
      ]
     },
     "metadata": {
      "needs_background": "light"
     },
     "output_type": "display_data"
    }
   ],
   "source": [
    "gender_frm.plot(kind='bar', rot=0, figsize=(15,15))\n",
    "\n",
    "plt.grid()\n",
    "plt.title('성별 빈도', weight='bold')\n",
    "plt.xlabel('성별')\n",
    "plt.ylabel('명')\n",
    "\n",
    "for idx, cnt in enumerate(list(gender_frm['명'])):\n",
    "    plt.text(idx, cnt, '%d명' % cnt,\n",
    "            horizontalalignment = 'center',\n",
    "            verticalalignment = 'bottom',\n",
    "            fontsize = 15,\n",
    "            color = 'red')\n",
    "    \n",
    "    \n",
    "plt.show()\n",
    "plt.close()"
   ]
  },
  {
   "cell_type": "code",
   "execution_count": 42,
   "id": "62462d1f",
   "metadata": {},
   "outputs": [
    {
     "data": {
      "image/png": "[encoded data removed]",
      "text/plain": [
       "<Figure size 720x360 with 1 Axes>"
      ]
     },
     "metadata": {},
     "output_type": "display_data"
    }
   ],
   "source": [
    "# 성별 분포에 따른 시각화 - pie\n",
    "\n",
    "plt.figure(figsize=(10,5))\n",
    "plt.pie(gender_frm['명'], labels = gender_frm.index,\n",
    "       autopct = '%1.1f%%',\n",
    "       colors = ['pink', 'skyblue'], shadow = True,\n",
    "       startangle = 90)\n",
    "\n",
    "plt.title('성별 분포 파이 차트', size = 20, weight = 'bold')\n",
    "plt.legend(loc='best')\n",
    "plt.axis('equal')\n",
    "\n",
    "plt.show()\n",
    "plt.close()"
   ]
  },
  {
   "cell_type": "code",
   "execution_count": 37,
   "id": "0f893ee6",
   "metadata": {},
   "outputs": [
    {
     "data": {
      "text/plain": [
       "array([[8440],\n",
       "       [6982]], dtype=int64)"
      ]
     },
     "execution_count": 37,
     "metadata": {},
     "output_type": "execute_result"
    }
   ],
   "source": [
    "gender_frm.values"
   ]
  },
  {
   "cell_type": "markdown",
   "id": "94411103",
   "metadata": {},
   "source": [
    "#### 성별에 따른 평균 급여 차이 분석\n",
    "- 성별과 월급 데이터만 추출\n",
    "- 성별을 남자, 여자로 변환\n",
    "- 데이터 정제(결측값, 결측값 제거, 이상치 결측값으로 대체하고 제거)\n",
    "- 시각화\n"
   ]
  },
  {
   "cell_type": "code",
   "execution_count": 50,
   "id": "05aca1ba",
   "metadata": {},
   "outputs": [
    {
     "data": {
      "text/plain": [
       "성별              0\n",
       "일한달의 월 평균 임금    0\n",
       "dtype: int64"
      ]
     },
     "execution_count": 50,
     "metadata": {},
     "output_type": "execute_result"
    }
   ],
   "source": [
    "sex_salary_subset = subset_koweps[['성별','일한달의 월 평균 임금']]\n",
    "sex_salary_subset['성별'] = sex_salary_subset['성별'].apply(lambda x : '남자' if x == 1 else '여자')\n",
    "sex_salary_subset.dropna(inplace=True)\n",
    "sex_salary_subset.isnull().sum()"
   ]
  },
  {
   "cell_type": "code",
   "execution_count": 57,
   "id": "587054f0",
   "metadata": {},
   "outputs": [
    {
     "data": {
      "text/plain": [
       "<AxesSubplot:>"
      ]
     },
     "execution_count": 57,
     "metadata": {},
     "output_type": "execute_result"
    },
    {
     "data": {
      "image/png": "[encoded data removed]",
      "text/plain": [
       "<Figure size 432x288 with 1 Axes>"
      ]
     },
     "metadata": {
      "needs_background": "light"
     },
     "output_type": "display_data"
    }
   ],
   "source": [
    "sex_salary_subset.boxplot()"
   ]
  },
  {
   "cell_type": "code",
   "execution_count": 52,
   "id": "86daf9d7",
   "metadata": {},
   "outputs": [],
   "source": [
    "iqr = sex_salary_subset.quantile(q=0.75) - sex_salary_subset.quantile(q=0.25)\n",
    "upper = sex_salary_subset.quantile(q=0.75) + 1.5 * iqr"
   ]
  },
  {
   "cell_type": "code",
   "execution_count": 55,
   "id": "01f8ef24",
   "metadata": {},
   "outputs": [
    {
     "data": {
      "text/plain": [
       "76        841.0\n",
       "80        691.0\n",
       "133      1800.0\n",
       "175       693.0\n",
       "244       758.0\n",
       "          ...  \n",
       "14970     641.0\n",
       "15019     952.0\n",
       "15195     654.0\n",
       "15292     842.0\n",
       "15378     704.0\n",
       "Name: 일한달의 월 평균 임금, Length: 207, dtype: float64"
      ]
     },
     "execution_count": 55,
     "metadata": {},
     "output_type": "execute_result"
    }
   ],
   "source": [
    "sex_salary_subset['일한달의 월 평균 임금'][sex_salary_subset['일한달의 월 평균 임금'] > upper['일한달의 월 평균 임금']]"
   ]
  },
  {
   "cell_type": "code",
   "execution_count": 1,
   "id": "3c8a6e50",
   "metadata": {},
   "outputs": [
    {
     "ename": "NameError",
     "evalue": "name 'quantile25' is not defined",
     "output_type": "error",
     "traceback": [
      "\u001b[1;31m---------------------------------------------------------------------------\u001b[0m",
      "\u001b[1;31mNameError\u001b[0m                                 Traceback (most recent call last)",
      "Input \u001b[1;32mIn [1]\u001b[0m, in \u001b[0;36m<cell line: 2>\u001b[1;34m()\u001b[0m\n\u001b[0;32m      1\u001b[0m \u001b[38;5;66;03m# 이상치 - lower fence, upper fence\u001b[39;00m\n\u001b[1;32m----> 2\u001b[0m lower \u001b[38;5;241m=\u001b[39m  \u001b[43mquantile25\u001b[49m \u001b[38;5;241m-\u001b[39m \u001b[38;5;241m1.5\u001b[39m \u001b[38;5;241m*\u001b[39m iqr\n\u001b[0;32m      3\u001b[0m \u001b[38;5;28mprint\u001b[39m(\u001b[38;5;124m'\u001b[39m\u001b[38;5;124mlower fence - \u001b[39m\u001b[38;5;124m'\u001b[39m, lower)\n\u001b[0;32m      4\u001b[0m upper \u001b[38;5;241m=\u001b[39m quantile75 \u001b[38;5;241m+\u001b[39m \u001b[38;5;241m1.5\u001b[39m \u001b[38;5;241m*\u001b[39m iqr\n",
      "\u001b[1;31mNameError\u001b[0m: name 'quantile25' is not defined"
     ]
    }
   ],
   "source": [
    "\n",
    "# 이상치 - lower fence, upper fence\n",
    "lower =  quantile25 - 1.5 * iqr\n",
    "print('lower fence - ', lower)\n",
    "upper = quantile75 + 1.5 * iqr\n",
    "print('upper fence - ', upper)\n",
    "print()\n",
    "\n",
    "# 극단치 경계 값 (아래 수평선, 위 수평선)\n",
    "lower_outlier = gender_salary_subset[gender_salary_subset > lower].min()\n",
    "print('lower outlier - ', lower_outlier)\n",
    "\n",
    "upper_outlier = gender_salary_subset[gender_salary_subset < upper].max()\n",
    "print('upper outlier - ', upper_outlier)\n",
    "print()\n",
    "\n",
    "# 이상치 데이터 추출\n",
    "gender_salary_subset_outlier = gender_salary_subset[gender_salary_subset['일한달의 평균 임금'] > upper_outlier['일한달의 평균 임금']]\n",
    "display(gender_salary_subset)\n",
    "print()\n",
    "\n",
    "gender_salary_subset_outli\n",
    "# 이상치를 결측값으로 변\n",
    "# 결측값 있는지 확인\n",
    "# 결측값 제거\n",
    "gender_salary_subset.dropna(inplace= True)\n",
    "print()\n",
    "# 결측값 제거 확인\n",
    "print(gender_salary_subset.isnull().sum())\n",
    "# 시각화 -성별에 따른 평균 급여 차이를 분석 \n",
    "gender_wage = gender_salary_subset.groupby('성별')['일한달의 평균 임금'].mean()\n",
    "gender_wage.plot(kind='bar', rot = 0)\n",
    "\n",
    "plt.title('성별에 따른 평균 급여 차이')\n",
    "plt.xlabel('성별')\n",
    "plt.ylabel('평균 급여(단위: 만원)')\n",
    "plt.legend(loc = 'best')\n",
    "\n",
    "plt.show()\n",
    "plt.close()\n"
   ]
  },
  {
   "cell_type": "markdown",
   "id": "0772b73d",
   "metadata": {},
   "source": [
    "#### 나이에 따른 평균 급여 변화\n",
    "- 데이터 전처리(태어난 년도, 월급에 대한 컬럼 추출, 나이를 계산하여 파생변수 추가)\n",
    "- 데이터 정제(결측값 확인, 결측값 제거, 이상치 결측 처리)\n",
    "- 데이터 분석(나이별 따른 급여평균)\n",
    "- 데이터 시각화\n",
    "\n"
   ]
  },
  {
   "cell_type": "code",
   "execution_count": 77,
   "id": "678407d8",
   "metadata": {},
   "outputs": [],
   "source": [
    "year_salary_subset = koweps_subset[['태어난 연도', '일한달의 월 평균 임금']]\n",
    "\n",
    "import datetime as date\n",
    "year_salary_subset['나이'] = date.datetime.now().year - year_salary_subset['태어난 연도'] +1\n",
    "# year_salary_subset['나이'] = 2022 - year_salary_subset['태어난 연도'] + 1"
   ]
  },
  {
   "cell_type": "code",
   "execution_count": 78,
   "id": "fd00dd5e",
   "metadata": {},
   "outputs": [],
   "source": [
    "year_salary_subset.dropna(inplace=True)"
   ]
  },
  {
   "cell_type": "code",
   "execution_count": 79,
   "id": "200c09ff",
   "metadata": {},
   "outputs": [
    {
     "data": {
      "image/png": "[encoded data removed]",
      "text/plain": [
       "<Figure size 432x288 with 1 Axes>"
      ]
     },
     "metadata": {
      "needs_background": "light"
     },
     "output_type": "display_data"
    }
   ],
   "source": [
    "year_salary_subset.boxplot()\n",
    "\n",
    "plt.show()\n",
    "plt.close()"
   ]
  },
  {
   "cell_type": "code",
   "execution_count": 83,
   "id": "cab47d66",
   "metadata": {},
   "outputs": [
    {
     "data": {
      "text/html": [
       "<div>\n",
       "<style scoped>\n",
       "    .dataframe tbody tr th:only-of-type {\n",
       "        vertical-align: middle;\n",
       "    }\n",
       "\n",
       "    .dataframe tbody tr th {\n",
       "        vertical-align: top;\n",
       "    }\n",
       "\n",
       "    .dataframe thead th {\n",
       "        text-align: right;\n",
       "    }\n",
       "</style>\n",
       "<table border=\"1\" class=\"dataframe\">\n",
       "  <thead>\n",
       "    <tr style=\"text-align: right;\">\n",
       "      <th></th>\n",
       "      <th>일한달의 월 평균 임금</th>\n",
       "    </tr>\n",
       "    <tr>\n",
       "      <th>나이</th>\n",
       "      <th></th>\n",
       "    </tr>\n",
       "  </thead>\n",
       "  <tbody>\n",
       "    <tr>\n",
       "      <th>25</th>\n",
       "      <td>89.333333</td>\n",
       "    </tr>\n",
       "    <tr>\n",
       "      <th>26</th>\n",
       "      <td>136.720000</td>\n",
       "    </tr>\n",
       "    <tr>\n",
       "      <th>27</th>\n",
       "      <td>140.807692</td>\n",
       "    </tr>\n",
       "    <tr>\n",
       "      <th>28</th>\n",
       "      <td>138.000000</td>\n",
       "    </tr>\n",
       "    <tr>\n",
       "      <th>29</th>\n",
       "      <td>145.652000</td>\n",
       "    </tr>\n",
       "  </tbody>\n",
       "</table>\n",
       "</div>"
      ],
      "text/plain": [
       "    일한달의 월 평균 임금\n",
       "나이              \n",
       "25     89.333333\n",
       "26    136.720000\n",
       "27    140.807692\n",
       "28    138.000000\n",
       "29    145.652000"
      ]
     },
     "execution_count": 83,
     "metadata": {},
     "output_type": "execute_result"
    }
   ],
   "source": [
    "result_frm = year_salary_subset[['나이', '일한달의 월 평균 임금']].groupby('나이').mean()\n",
    "result_frm.head()"
   ]
  },
  {
   "cell_type": "code",
   "execution_count": 85,
   "id": "00e469c2",
   "metadata": {},
   "outputs": [
    {
     "data": {
      "image/png": "[encoded data removed]",
      "text/plain": [
       "<Figure size 720x360 with 1 Axes>"
      ]
     },
     "metadata": {
      "needs_background": "light"
     },
     "output_type": "display_data"
    }
   ],
   "source": [
    "result_frm.plot(figsize=(10,5))\n",
    "\n",
    "plt.grid()\n",
    "plt.show()\n",
    "plt.close()"
   ]
  },
  {
   "cell_type": "markdown",
   "id": "da28dfef",
   "metadata": {},
   "source": [
    "- 연령대에 따른 분포\n"
   ]
  },
  {
   "cell_type": "code",
   "execution_count": 87,
   "id": "ba9b5f6f",
   "metadata": {},
   "outputs": [
    {
     "data": {
      "text/html": [
       "<div>\n",
       "<style scoped>\n",
       "    .dataframe tbody tr th:only-of-type {\n",
       "        vertical-align: middle;\n",
       "    }\n",
       "\n",
       "    .dataframe tbody tr th {\n",
       "        vertical-align: top;\n",
       "    }\n",
       "\n",
       "    .dataframe thead th {\n",
       "        text-align: right;\n",
       "    }\n",
       "</style>\n",
       "<table border=\"1\" class=\"dataframe\">\n",
       "  <thead>\n",
       "    <tr style=\"text-align: right;\">\n",
       "      <th></th>\n",
       "      <th>태어난 연도</th>\n",
       "      <th>일한달의 월 평균 임금</th>\n",
       "      <th>나이</th>\n",
       "      <th>연령대</th>\n",
       "    </tr>\n",
       "  </thead>\n",
       "  <tbody>\n",
       "    <tr>\n",
       "      <th>3</th>\n",
       "      <td>1942</td>\n",
       "      <td>108.9</td>\n",
       "      <td>81</td>\n",
       "      <td>80</td>\n",
       "    </tr>\n",
       "    <tr>\n",
       "      <th>10</th>\n",
       "      <td>1940</td>\n",
       "      <td>20.0</td>\n",
       "      <td>83</td>\n",
       "      <td>80</td>\n",
       "    </tr>\n",
       "    <tr>\n",
       "      <th>16</th>\n",
       "      <td>1978</td>\n",
       "      <td>322.0</td>\n",
       "      <td>45</td>\n",
       "      <td>40</td>\n",
       "    </tr>\n",
       "    <tr>\n",
       "      <th>17</th>\n",
       "      <td>1975</td>\n",
       "      <td>120.0</td>\n",
       "      <td>48</td>\n",
       "      <td>40</td>\n",
       "    </tr>\n",
       "    <tr>\n",
       "      <th>24</th>\n",
       "      <td>1975</td>\n",
       "      <td>300.0</td>\n",
       "      <td>48</td>\n",
       "      <td>40</td>\n",
       "    </tr>\n",
       "    <tr>\n",
       "      <th>...</th>\n",
       "      <td>...</td>\n",
       "      <td>...</td>\n",
       "      <td>...</td>\n",
       "      <td>...</td>\n",
       "    </tr>\n",
       "    <tr>\n",
       "      <th>15400</th>\n",
       "      <td>1966</td>\n",
       "      <td>230.0</td>\n",
       "      <td>57</td>\n",
       "      <td>50</td>\n",
       "    </tr>\n",
       "    <tr>\n",
       "      <th>15401</th>\n",
       "      <td>1962</td>\n",
       "      <td>138.0</td>\n",
       "      <td>61</td>\n",
       "      <td>60</td>\n",
       "    </tr>\n",
       "    <tr>\n",
       "      <th>15404</th>\n",
       "      <td>1993</td>\n",
       "      <td>286.0</td>\n",
       "      <td>30</td>\n",
       "      <td>30</td>\n",
       "    </tr>\n",
       "    <tr>\n",
       "      <th>15412</th>\n",
       "      <td>1956</td>\n",
       "      <td>179.0</td>\n",
       "      <td>67</td>\n",
       "      <td>60</td>\n",
       "    </tr>\n",
       "    <tr>\n",
       "      <th>15419</th>\n",
       "      <td>1995</td>\n",
       "      <td>72.0</td>\n",
       "      <td>28</td>\n",
       "      <td>20</td>\n",
       "    </tr>\n",
       "  </tbody>\n",
       "</table>\n",
       "<p>4507 rows × 4 columns</p>\n",
       "</div>"
      ],
      "text/plain": [
       "       태어난 연도  일한달의 월 평균 임금  나이  연령대\n",
       "3        1942         108.9  81   80\n",
       "10       1940          20.0  83   80\n",
       "16       1978         322.0  45   40\n",
       "17       1975         120.0  48   40\n",
       "24       1975         300.0  48   40\n",
       "...       ...           ...  ..  ...\n",
       "15400    1966         230.0  57   50\n",
       "15401    1962         138.0  61   60\n",
       "15404    1993         286.0  30   30\n",
       "15412    1956         179.0  67   60\n",
       "15419    1995          72.0  28   20\n",
       "\n",
       "[4507 rows x 4 columns]"
      ]
     },
     "execution_count": 87,
     "metadata": {},
     "output_type": "execute_result"
    }
   ],
   "source": [
    "year_salary_subset['연령대'] = (year_salary_subset['나이'] // 10) *10\n",
    "year_salary_subset"
   ]
  },
  {
   "cell_type": "code",
   "execution_count": 88,
   "id": "4ec90d78",
   "metadata": {},
   "outputs": [
    {
     "data": {
      "text/plain": [
       "50    1159\n",
       "40    1110\n",
       "60     767\n",
       "30     748\n",
       "70     371\n",
       "80     205\n",
       "20     134\n",
       "90      13\n",
       "Name: 연령대, dtype: int64"
      ]
     },
     "execution_count": 88,
     "metadata": {},
     "output_type": "execute_result"
    }
   ],
   "source": [
    "year_salary_subset['연령대'].value_counts()"
   ]
  },
  {
   "cell_type": "code",
   "execution_count": 89,
   "id": "cf8a2afe",
   "metadata": {},
   "outputs": [
    {
     "data": {
      "text/plain": [
       "태어난 연도          0\n",
       "일한달의 월 평균 임금    0\n",
       "나이              0\n",
       "연령대             0\n",
       "dtype: int64"
      ]
     },
     "execution_count": 89,
     "metadata": {},
     "output_type": "execute_result"
    }
   ],
   "source": [
    "year_salary_subset.isnull().sum()"
   ]
  },
  {
   "cell_type": "code",
   "execution_count": 90,
   "id": "dcbf445e",
   "metadata": {},
   "outputs": [
    {
     "data": {
      "text/html": [
       "<div>\n",
       "<style scoped>\n",
       "    .dataframe tbody tr th:only-of-type {\n",
       "        vertical-align: middle;\n",
       "    }\n",
       "\n",
       "    .dataframe tbody tr th {\n",
       "        vertical-align: top;\n",
       "    }\n",
       "\n",
       "    .dataframe thead th {\n",
       "        text-align: right;\n",
       "    }\n",
       "</style>\n",
       "<table border=\"1\" class=\"dataframe\">\n",
       "  <thead>\n",
       "    <tr style=\"text-align: right;\">\n",
       "      <th></th>\n",
       "      <th>연령대</th>\n",
       "    </tr>\n",
       "  </thead>\n",
       "  <tbody>\n",
       "    <tr>\n",
       "      <th>50</th>\n",
       "      <td>1159</td>\n",
       "    </tr>\n",
       "    <tr>\n",
       "      <th>40</th>\n",
       "      <td>1110</td>\n",
       "    </tr>\n",
       "    <tr>\n",
       "      <th>60</th>\n",
       "      <td>767</td>\n",
       "    </tr>\n",
       "    <tr>\n",
       "      <th>30</th>\n",
       "      <td>748</td>\n",
       "    </tr>\n",
       "    <tr>\n",
       "      <th>70</th>\n",
       "      <td>371</td>\n",
       "    </tr>\n",
       "    <tr>\n",
       "      <th>80</th>\n",
       "      <td>205</td>\n",
       "    </tr>\n",
       "    <tr>\n",
       "      <th>20</th>\n",
       "      <td>134</td>\n",
       "    </tr>\n",
       "    <tr>\n",
       "      <th>90</th>\n",
       "      <td>13</td>\n",
       "    </tr>\n",
       "  </tbody>\n",
       "</table>\n",
       "</div>"
      ],
      "text/plain": [
       "     연령대\n",
       "50  1159\n",
       "40  1110\n",
       "60   767\n",
       "30   748\n",
       "70   371\n",
       "80   205\n",
       "20   134\n",
       "90    13"
      ]
     },
     "execution_count": 90,
     "metadata": {},
     "output_type": "execute_result"
    }
   ],
   "source": [
    "result_frm = pd.DataFrame( year_salary_subset['연령대'].value_counts())\n",
    "result_frm"
   ]
  },
  {
   "cell_type": "code",
   "execution_count": 97,
   "id": "b52064b3",
   "metadata": {},
   "outputs": [
    {
     "data": {
      "image/png": "[encoded data removed]",
      "text/plain": [
       "<Figure size 720x360 with 1 Axes>"
      ]
     },
     "metadata": {
      "needs_background": "light"
     },
     "output_type": "display_data"
    }
   ],
   "source": [
    "result_frm.plot(kind = 'bar', figsize=(10,5), rot = 0)\n",
    "\n",
    "plt.title('연령대 분석', weight = 'bold', color = 'red')\n",
    "plt.xlabel('연령대')\n",
    "plt.ylabel('명')\n",
    "plt.legend(loc = 'best')\n",
    "\n",
    "\n",
    "for idx, value in enumerate(list(result_frm['연령대'])):\n",
    "    txt = '%d명' % value\n",
    "    plt.text(idx, value, txt,\n",
    "            horizontalalignment = 'center',\n",
    "            verticalalignment = 'bottom',\n",
    "            fontsize = 10,\n",
    "            color = 'red')\n",
    "\n",
    "plt.show()\n",
    "plt.close()"
   ]
  },
  {
   "cell_type": "markdown",
   "id": "5a73b956",
   "metadata": {},
   "source": [
    "- 연령대별 평균 급여 변화\n",
    "\n",
    "성별과 연령대 분포 \n",
    "\n",
    "성별과 연령대에 따른 평균 급여 변화\n",
    "\n",
    "지역별 연령층 분포와 연령층별 지역비율\n"
   ]
  },
  {
   "cell_type": "code",
   "execution_count": 104,
   "id": "5f2bb7b8",
   "metadata": {},
   "outputs": [
    {
     "ename": "KeyError",
     "evalue": "'일한달의 평균 임금'",
     "output_type": "error",
     "traceback": [
      "\u001b[1;31m---------------------------------------------------------------------------\u001b[0m",
      "\u001b[1;31mKeyError\u001b[0m                                  Traceback (most recent call last)",
      "File \u001b[1;32m~\\anaconda3\\lib\\site-packages\\pandas\\core\\indexes\\base.py:3621\u001b[0m, in \u001b[0;36mIndex.get_loc\u001b[1;34m(self, key, method, tolerance)\u001b[0m\n\u001b[0;32m   3620\u001b[0m \u001b[38;5;28;01mtry\u001b[39;00m:\n\u001b[1;32m-> 3621\u001b[0m     \u001b[38;5;28;01mreturn\u001b[39;00m \u001b[38;5;28;43mself\u001b[39;49m\u001b[38;5;241;43m.\u001b[39;49m\u001b[43m_engine\u001b[49m\u001b[38;5;241;43m.\u001b[39;49m\u001b[43mget_loc\u001b[49m\u001b[43m(\u001b[49m\u001b[43mcasted_key\u001b[49m\u001b[43m)\u001b[49m\n\u001b[0;32m   3622\u001b[0m \u001b[38;5;28;01mexcept\u001b[39;00m \u001b[38;5;167;01mKeyError\u001b[39;00m \u001b[38;5;28;01mas\u001b[39;00m err:\n",
      "File \u001b[1;32m~\\anaconda3\\lib\\site-packages\\pandas\\_libs\\index.pyx:136\u001b[0m, in \u001b[0;36mpandas._libs.index.IndexEngine.get_loc\u001b[1;34m()\u001b[0m\n",
      "File \u001b[1;32m~\\anaconda3\\lib\\site-packages\\pandas\\_libs\\index.pyx:163\u001b[0m, in \u001b[0;36mpandas._libs.index.IndexEngine.get_loc\u001b[1;34m()\u001b[0m\n",
      "File \u001b[1;32mpandas\\_libs\\hashtable_class_helper.pxi:5198\u001b[0m, in \u001b[0;36mpandas._libs.hashtable.PyObjectHashTable.get_item\u001b[1;34m()\u001b[0m\n",
      "File \u001b[1;32mpandas\\_libs\\hashtable_class_helper.pxi:5206\u001b[0m, in \u001b[0;36mpandas._libs.hashtable.PyObjectHashTable.get_item\u001b[1;34m()\u001b[0m\n",
      "\u001b[1;31mKeyError\u001b[0m: '일한달의 평균 임금'",
      "\nThe above exception was the direct cause of the following exception:\n",
      "\u001b[1;31mKeyError\u001b[0m                                  Traceback (most recent call last)",
      "Input \u001b[1;32mIn [104]\u001b[0m, in \u001b[0;36m<cell line: 2>\u001b[1;34m()\u001b[0m\n\u001b[0;32m      1\u001b[0m \u001b[38;5;66;03m# 이상치 - IQR\u001b[39;00m\n\u001b[1;32m----> 2\u001b[0m IQR \u001b[38;5;241m=\u001b[39m year_salary_subset[\u001b[38;5;124m'\u001b[39m\u001b[38;5;124m일한달의 월 평균 임금\u001b[39m\u001b[38;5;124m'\u001b[39m]\u001b[38;5;241m.\u001b[39mquantile(q\u001b[38;5;241m=\u001b[39m\u001b[38;5;241m0.75\u001b[39m) \u001b[38;5;241m-\u001b[39m \u001b[43myear_salary_subset\u001b[49m\u001b[43m[\u001b[49m\u001b[38;5;124;43m'\u001b[39;49m\u001b[38;5;124;43m일한달의 평균 임금\u001b[39;49m\u001b[38;5;124;43m'\u001b[39;49m\u001b[43m]\u001b[49m\u001b[38;5;241m.\u001b[39mquantile(q\u001b[38;5;241m=\u001b[39m\u001b[38;5;241m0.25\u001b[39m)\n\u001b[0;32m      3\u001b[0m \u001b[38;5;28mprint\u001b[39m(\u001b[38;5;124m'\u001b[39m\u001b[38;5;124mIQR - \u001b[39m\u001b[38;5;124m'\u001b[39m, IQR)\n\u001b[0;32m      4\u001b[0m \u001b[38;5;66;03m# 이상치 - lower fence, upper fence\u001b[39;00m\n",
      "File \u001b[1;32m~\\anaconda3\\lib\\site-packages\\pandas\\core\\frame.py:3505\u001b[0m, in \u001b[0;36mDataFrame.__getitem__\u001b[1;34m(self, key)\u001b[0m\n\u001b[0;32m   3503\u001b[0m \u001b[38;5;28;01mif\u001b[39;00m \u001b[38;5;28mself\u001b[39m\u001b[38;5;241m.\u001b[39mcolumns\u001b[38;5;241m.\u001b[39mnlevels \u001b[38;5;241m>\u001b[39m \u001b[38;5;241m1\u001b[39m:\n\u001b[0;32m   3504\u001b[0m     \u001b[38;5;28;01mreturn\u001b[39;00m \u001b[38;5;28mself\u001b[39m\u001b[38;5;241m.\u001b[39m_getitem_multilevel(key)\n\u001b[1;32m-> 3505\u001b[0m indexer \u001b[38;5;241m=\u001b[39m \u001b[38;5;28;43mself\u001b[39;49m\u001b[38;5;241;43m.\u001b[39;49m\u001b[43mcolumns\u001b[49m\u001b[38;5;241;43m.\u001b[39;49m\u001b[43mget_loc\u001b[49m\u001b[43m(\u001b[49m\u001b[43mkey\u001b[49m\u001b[43m)\u001b[49m\n\u001b[0;32m   3506\u001b[0m \u001b[38;5;28;01mif\u001b[39;00m is_integer(indexer):\n\u001b[0;32m   3507\u001b[0m     indexer \u001b[38;5;241m=\u001b[39m [indexer]\n",
      "File \u001b[1;32m~\\anaconda3\\lib\\site-packages\\pandas\\core\\indexes\\base.py:3623\u001b[0m, in \u001b[0;36mIndex.get_loc\u001b[1;34m(self, key, method, tolerance)\u001b[0m\n\u001b[0;32m   3621\u001b[0m     \u001b[38;5;28;01mreturn\u001b[39;00m \u001b[38;5;28mself\u001b[39m\u001b[38;5;241m.\u001b[39m_engine\u001b[38;5;241m.\u001b[39mget_loc(casted_key)\n\u001b[0;32m   3622\u001b[0m \u001b[38;5;28;01mexcept\u001b[39;00m \u001b[38;5;167;01mKeyError\u001b[39;00m \u001b[38;5;28;01mas\u001b[39;00m err:\n\u001b[1;32m-> 3623\u001b[0m     \u001b[38;5;28;01mraise\u001b[39;00m \u001b[38;5;167;01mKeyError\u001b[39;00m(key) \u001b[38;5;28;01mfrom\u001b[39;00m \u001b[38;5;21;01merr\u001b[39;00m\n\u001b[0;32m   3624\u001b[0m \u001b[38;5;28;01mexcept\u001b[39;00m \u001b[38;5;167;01mTypeError\u001b[39;00m:\n\u001b[0;32m   3625\u001b[0m     \u001b[38;5;66;03m# If we have a listlike key, _check_indexing_error will raise\u001b[39;00m\n\u001b[0;32m   3626\u001b[0m     \u001b[38;5;66;03m#  InvalidIndexError. Otherwise we fall through and re-raise\u001b[39;00m\n\u001b[0;32m   3627\u001b[0m     \u001b[38;5;66;03m#  the TypeError.\u001b[39;00m\n\u001b[0;32m   3628\u001b[0m     \u001b[38;5;28mself\u001b[39m\u001b[38;5;241m.\u001b[39m_check_indexing_error(key)\n",
      "\u001b[1;31mKeyError\u001b[0m: '일한달의 평균 임금'"
     ]
    }
   ],
   "source": [
    "# 이상치 - IQR\n",
    "IQR = year_salary_subset['일한달의 월 평균 임금'].quantile(q=0.75) - year_salary_subset['일한달의 평균 임금'].quantile(q=0.25)\n",
    "print('IQR - ', IQR)\n",
    "# 이상치 - lower fence, upper fence\n",
    "lower =  year_salary_subset['일한달의 월 평균 임금'].quantile(q=0.25) - 1.5*IQR\n",
    "print('lower fence - ', lower)\n",
    "upper = year_salary_subset['일한달의 월 평균 임금'].quantile(q=0.75) + 1.5*IQR \n",
    "print('upper fence - ', upper)\n",
    "print()\n"
   ]
  },
  {
   "cell_type": "code",
   "execution_count": 105,
   "id": "34fd57fa",
   "metadata": {},
   "outputs": [
    {
     "name": "stdout",
     "output_type": "stream",
     "text": [
      "lower outlier -  0.0\n",
      "upper outlier -  634.0\n",
      "\n"
     ]
    }
   ],
   "source": [
    "# 극단치 경계 값 (아래 수평선, 위 수평선)\n",
    "lower_outlier = year_salary_subset[year_salary_subset > lower].min()\n",
    "print('lower outlier - ', lower_outlier['일한달의 월 평균 임금'])\n",
    "\n",
    "upper_outlier = year_salary_subset[year_salary_subset < upper].max()\n",
    "print('upper outlier - ', upper_outlier['일한달의 월 평균 임금'])\n",
    "print()\n"
   ]
  },
  {
   "cell_type": "code",
   "execution_count": 108,
   "id": "1f68b690",
   "metadata": {},
   "outputs": [
    {
     "data": {
      "text/html": [
       "<div>\n",
       "<style scoped>\n",
       "    .dataframe tbody tr th:only-of-type {\n",
       "        vertical-align: middle;\n",
       "    }\n",
       "\n",
       "    .dataframe tbody tr th {\n",
       "        vertical-align: top;\n",
       "    }\n",
       "\n",
       "    .dataframe thead th {\n",
       "        text-align: right;\n",
       "    }\n",
       "</style>\n",
       "<table border=\"1\" class=\"dataframe\">\n",
       "  <thead>\n",
       "    <tr style=\"text-align: right;\">\n",
       "      <th></th>\n",
       "      <th>태어난 연도</th>\n",
       "      <th>일한달의 월 평균 임금</th>\n",
       "      <th>나이</th>\n",
       "      <th>연령대</th>\n",
       "    </tr>\n",
       "  </thead>\n",
       "  <tbody>\n",
       "    <tr>\n",
       "      <th>76</th>\n",
       "      <td>1968</td>\n",
       "      <td>841.0</td>\n",
       "      <td>55</td>\n",
       "      <td>50</td>\n",
       "    </tr>\n",
       "    <tr>\n",
       "      <th>80</th>\n",
       "      <td>1973</td>\n",
       "      <td>691.0</td>\n",
       "      <td>50</td>\n",
       "      <td>50</td>\n",
       "    </tr>\n",
       "    <tr>\n",
       "      <th>133</th>\n",
       "      <td>1956</td>\n",
       "      <td>1800.0</td>\n",
       "      <td>67</td>\n",
       "      <td>60</td>\n",
       "    </tr>\n",
       "    <tr>\n",
       "      <th>175</th>\n",
       "      <td>1975</td>\n",
       "      <td>693.0</td>\n",
       "      <td>48</td>\n",
       "      <td>40</td>\n",
       "    </tr>\n",
       "    <tr>\n",
       "      <th>244</th>\n",
       "      <td>1979</td>\n",
       "      <td>758.0</td>\n",
       "      <td>44</td>\n",
       "      <td>40</td>\n",
       "    </tr>\n",
       "    <tr>\n",
       "      <th>...</th>\n",
       "      <td>...</td>\n",
       "      <td>...</td>\n",
       "      <td>...</td>\n",
       "      <td>...</td>\n",
       "    </tr>\n",
       "    <tr>\n",
       "      <th>14970</th>\n",
       "      <td>1977</td>\n",
       "      <td>641.0</td>\n",
       "      <td>46</td>\n",
       "      <td>40</td>\n",
       "    </tr>\n",
       "    <tr>\n",
       "      <th>15019</th>\n",
       "      <td>1976</td>\n",
       "      <td>952.0</td>\n",
       "      <td>47</td>\n",
       "      <td>40</td>\n",
       "    </tr>\n",
       "    <tr>\n",
       "      <th>15195</th>\n",
       "      <td>1965</td>\n",
       "      <td>654.0</td>\n",
       "      <td>58</td>\n",
       "      <td>50</td>\n",
       "    </tr>\n",
       "    <tr>\n",
       "      <th>15292</th>\n",
       "      <td>1973</td>\n",
       "      <td>842.0</td>\n",
       "      <td>50</td>\n",
       "      <td>50</td>\n",
       "    </tr>\n",
       "    <tr>\n",
       "      <th>15378</th>\n",
       "      <td>1969</td>\n",
       "      <td>704.0</td>\n",
       "      <td>54</td>\n",
       "      <td>50</td>\n",
       "    </tr>\n",
       "  </tbody>\n",
       "</table>\n",
       "<p>207 rows × 4 columns</p>\n",
       "</div>"
      ],
      "text/plain": [
       "       태어난 연도  일한달의 월 평균 임금  나이  연령대\n",
       "76       1968         841.0  55   50\n",
       "80       1973         691.0  50   50\n",
       "133      1956        1800.0  67   60\n",
       "175      1975         693.0  48   40\n",
       "244      1979         758.0  44   40\n",
       "...       ...           ...  ..  ...\n",
       "14970    1977         641.0  46   40\n",
       "15019    1976         952.0  47   40\n",
       "15195    1965         654.0  58   50\n",
       "15292    1973         842.0  50   50\n",
       "15378    1969         704.0  54   50\n",
       "\n",
       "[207 rows x 4 columns]"
      ]
     },
     "metadata": {},
     "output_type": "display_data"
    },
    {
     "name": "stdout",
     "output_type": "stream",
     "text": [
      "\n",
      "태어난 연도            0\n",
      "일한달의 월 평균 임금    207\n",
      "나이                0\n",
      "연령대               0\n",
      "dtype: int64\n",
      "\n",
      "\n",
      "태어난 연도          0\n",
      "일한달의 월 평균 임금    0\n",
      "나이              0\n",
      "연령대             0\n",
      "dtype: int64\n"
     ]
    }
   ],
   "source": [
    "# 이상치 데이터 추출\n",
    "koweps_age_outlier = year_salary_subset[year_salary_subset['일한달의 월 평균 임금'] > upper_outlier['일한달의 월 평균 임금']]\n",
    "display(koweps_age_outlier)\n",
    "print()\n",
    "\n",
    "# 이상치를 결측값으로 변경\n",
    "for idx in koweps_age_outlier.index :\n",
    "    year_salary_subset.loc[idx, '일한달의 월 평균 임금'] = np.NaN\n",
    "\n",
    "# 결측값 있는지 확인\n",
    "print(year_salary_subset.isnull().sum())\n",
    "print()\n",
    "# 결측값 제거\n",
    "year_salary_subset.dropna(inplace= True)\n",
    "print()\n",
    "print(year_salary_subset.isnull().sum())\n"
   ]
  },
  {
   "cell_type": "code",
   "execution_count": 110,
   "id": "cfbe2e57",
   "metadata": {},
   "outputs": [
    {
     "data": {
      "image/png": "[encoded data removed]",
      "text/plain": [
       "<Figure size 720x360 with 1 Axes>"
      ]
     },
     "metadata": {
      "needs_background": "light"
     },
     "output_type": "display_data"
    }
   ],
   "source": [
    "#시각화 \n",
    "year_salary_subset[['연령대', '일한달의 월 평균 임금']].groupby('연령대').mean().plot(kind='line', rot=0, figsize =(10,5), marker = 'o')\n",
    "\n",
    "\n",
    "\n",
    "plt.title('연령대별 평균 급여 변화')\n",
    "plt.xlabel('연령대')\n",
    "plt.ylabel('평균 급여(단위: 만원)')\n",
    "plt.legend(loc = 'best')\n",
    "\n",
    "plt.show()\n",
    "plt.close()\n"
   ]
  },
  {
   "cell_type": "code",
   "execution_count": 116,
   "id": "f7e1ef25",
   "metadata": {},
   "outputs": [
    {
     "data": {
      "image/png": "[encoded data removed]",
      "text/plain": [
       "<Figure size 720x360 with 1 Axes>"
      ]
     },
     "metadata": {
      "needs_background": "light"
     },
     "output_type": "display_data"
    }
   ],
   "source": [
    "visualization_frm = year_salary_subset[['연령대', '일한달의 월 평균 임금']].groupby('연령대').mean()\n",
    "visualization_frm.plot(kind='line', rot=0, figsize =(10,5), marker = 'o')\n",
    "\n",
    "for idx, value in enumerate(list( visualization_frm['일한달의 월 평균 임금'] )) :\n",
    "    txt = '%d명' % value\n",
    "    \n",
    "    plt.text(visualization_frm.index[idx], value, txt , \n",
    "            horizontalalignment='center',\n",
    "            verticalalignment='bottom',\n",
    "            fontsize=10,\n",
    "            color='red')\n",
    "    \n",
    "\n",
    "plt.title('연령대별 평균 급여 변화')\n",
    "plt.xlabel('연령대')\n",
    "plt.ylabel('평균 급여(단위: 만원)')\n",
    "plt.legend(loc = 'best')\n",
    "\n",
    "plt.show()\n",
    "plt.close()\n"
   ]
  },
  {
   "cell_type": "code",
   "execution_count": null,
   "id": "f67d99b9",
   "metadata": {},
   "outputs": [],
   "source": []
  },
  {
   "cell_type": "code",
   "execution_count": null,
   "id": "c9100e1e",
   "metadata": {},
   "outputs": [],
   "source": []
  }
 ],
 "metadata": {
  "kernelspec": {
   "display_name": "Python 3 (ipykernel)",
   "language": "python",
   "name": "python3"
  },
  "language_info": {
   "codemirror_mode": {
    "name": "ipython",
    "version": 3
   },
   "file_extension": ".py",
   "mimetype": "text/x-python",
   "name": "python",
   "nbconvert_exporter": "python",
   "pygments_lexer": "ipython3",
   "version": "3.9.12"
  }
 },
 "nbformat": 4,
 "nbformat_minor": 5
}
